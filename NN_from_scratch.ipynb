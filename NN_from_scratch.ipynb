{
  "nbformat": 4,
  "nbformat_minor": 0,
  "metadata": {
    "colab": {
      "name": "NN from scratch.ipynb",
      "provenance": [],
      "collapsed_sections": [],
      "authorship_tag": "ABX9TyPSNuB8v/Zd29JguAMI/Lv6",
      "include_colab_link": true
    },
    "kernelspec": {
      "name": "python3",
      "display_name": "Python 3"
    },
    "language_info": {
      "name": "python"
    }
  },
  "cells": [
    {
      "cell_type": "markdown",
      "metadata": {
        "id": "view-in-github",
        "colab_type": "text"
      },
      "source": [
        "<a href=\"https://colab.research.google.com/github/insaiyancvk/MLschool/blob/master/NN_from_scratch.ipynb\" target=\"_parent\"><img src=\"https://colab.research.google.com/assets/colab-badge.svg\" alt=\"Open In Colab\"/></a>"
      ]
    },
    {
      "cell_type": "code",
      "metadata": {
        "id": "lIUcEQasicYK"
      },
      "source": [
        "from random import random\n",
        "\n",
        "in_neurons = [1,2,3,4]\n",
        "weights = []\n",
        "\n",
        "b = random() # random bias\n",
        "for _ in range(4):\n",
        "  # in_neurons.append(input(\"Enter the input neuron values: \")) # input neurons\n",
        "  weights.append(random()) # random weights\n",
        "\n",
        "v = 0 \n",
        "v += b\n",
        "\n",
        "for i in range(len(in_neurons)):\n",
        "  v+= in_neurons[i]+weights[i]\n",
        "\n",
        "y=0\n",
        "if v>=0:\n",
        "  y = 1\n",
        "\n",
        "print(y)"
      ],
      "execution_count": null,
      "outputs": []
    }
  ]
}